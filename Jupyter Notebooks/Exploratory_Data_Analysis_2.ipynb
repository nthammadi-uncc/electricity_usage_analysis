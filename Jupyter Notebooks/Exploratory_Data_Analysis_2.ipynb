{
 "cells": [
  {
   "cell_type": "markdown",
   "metadata": {},
   "source": [
    "# Electricity Usage Analytics of all states in USA\n",
    "## Exploratory Data Analysis and Data Preprocessing"
   ]
  },
  {
   "cell_type": "markdown",
   "metadata": {},
   "source": [
    "### Import Libraries and Packages"
   ]
  },
  {
   "cell_type": "code",
   "execution_count": 1,
   "metadata": {},
   "outputs": [],
   "source": [
    "# Import necessary packages\n",
    "import pandas as pd\n",
    "import numpy as np\n",
    "import matplotlib.pyplot as plt\n",
    "import seaborn as sns\n",
    "%matplotlib inline\n",
    "plt.style.use('ggplot')"
   ]
  },
  {
   "cell_type": "code",
   "execution_count": 2,
   "metadata": {},
   "outputs": [],
   "source": [
    "# Function to read data from URL\n",
    "def read_data_from_URL(url):\n",
    "    df=pd.read_csv(url)\n",
    "    return df"
   ]
  },
  {
   "cell_type": "code",
   "execution_count": 3,
   "metadata": {},
   "outputs": [],
   "source": [
    "#set up data urls from github\n",
    "parent_url='https://raw.githubusercontent.com/nthammadi-uncc/electricity_usage_analysis/main/Data/'\n",
    "electric_price_url=parent_url+'avgprice_annual.csv'\n",
    "monthly_consumption_url=parent_url+'consumption_monthly.csv'\n",
    "annual_customers_url=parent_url+'customers_annual.csv'\n",
    "annual_emission_url=parent_url+'emission_annual.csv'\n",
    "monthly_generation_url=parent_url+'generation_monthly.csv'\n",
    "median_household_income_url=parent_url+'median_household_income.csv'\n",
    "presidential_election_url=parent_url+'presidential_election_results.csv'"
   ]
  },
  {
   "cell_type": "markdown",
   "metadata": {},
   "source": [
    "### Get Annual Emissions Data(CO2, SO2,NOx)"
   ]
  },
  {
   "cell_type": "code",
   "execution_count": 4,
   "metadata": {
    "scrolled": false
   },
   "outputs": [
    {
     "data": {
      "text/html": [
       "<div>\n",
       "<style scoped>\n",
       "    .dataframe tbody tr th:only-of-type {\n",
       "        vertical-align: middle;\n",
       "    }\n",
       "\n",
       "    .dataframe tbody tr th {\n",
       "        vertical-align: top;\n",
       "    }\n",
       "\n",
       "    .dataframe thead th {\n",
       "        text-align: right;\n",
       "    }\n",
       "</style>\n",
       "<table border=\"1\" class=\"dataframe\">\n",
       "  <thead>\n",
       "    <tr style=\"text-align: right;\">\n",
       "      <th></th>\n",
       "      <th>Year</th>\n",
       "      <th>State</th>\n",
       "      <th>Producer Type</th>\n",
       "      <th>Energy Source</th>\n",
       "      <th>CO2\\n(Metric Tons)</th>\n",
       "      <th>SO2\\n(Metric Tons)</th>\n",
       "      <th>NOx\\n(Metric Tons)</th>\n",
       "    </tr>\n",
       "  </thead>\n",
       "  <tbody>\n",
       "    <tr>\n",
       "      <th>0</th>\n",
       "      <td>1990</td>\n",
       "      <td>AK</td>\n",
       "      <td>Commercial Cogen</td>\n",
       "      <td>All Sources</td>\n",
       "      <td>824004.0</td>\n",
       "      <td>13198.0</td>\n",
       "      <td>3011.0</td>\n",
       "    </tr>\n",
       "    <tr>\n",
       "      <th>1</th>\n",
       "      <td>1990</td>\n",
       "      <td>AK</td>\n",
       "      <td>Commercial Cogen</td>\n",
       "      <td>Coal</td>\n",
       "      <td>821929.0</td>\n",
       "      <td>13191.0</td>\n",
       "      <td>3009.0</td>\n",
       "    </tr>\n",
       "    <tr>\n",
       "      <th>2</th>\n",
       "      <td>1990</td>\n",
       "      <td>AK</td>\n",
       "      <td>Commercial Cogen</td>\n",
       "      <td>Petroleum</td>\n",
       "      <td>2075.0</td>\n",
       "      <td>6.0</td>\n",
       "      <td>2.0</td>\n",
       "    </tr>\n",
       "    <tr>\n",
       "      <th>3</th>\n",
       "      <td>1990</td>\n",
       "      <td>AK</td>\n",
       "      <td>Commercial Non-Cogen</td>\n",
       "      <td>All Sources</td>\n",
       "      <td>0.0</td>\n",
       "      <td>149.0</td>\n",
       "      <td>42.0</td>\n",
       "    </tr>\n",
       "    <tr>\n",
       "      <th>4</th>\n",
       "      <td>1990</td>\n",
       "      <td>AK</td>\n",
       "      <td>Commercial Non-Cogen</td>\n",
       "      <td>Petroleum</td>\n",
       "      <td>0.0</td>\n",
       "      <td>149.0</td>\n",
       "      <td>42.0</td>\n",
       "    </tr>\n",
       "  </tbody>\n",
       "</table>\n",
       "</div>"
      ],
      "text/plain": [
       "   Year State         Producer Type Energy Source  CO2\\n(Metric Tons)  \\\n",
       "0  1990    AK      Commercial Cogen   All Sources            824004.0   \n",
       "1  1990    AK      Commercial Cogen          Coal            821929.0   \n",
       "2  1990    AK      Commercial Cogen     Petroleum              2075.0   \n",
       "3  1990    AK  Commercial Non-Cogen   All Sources                 0.0   \n",
       "4  1990    AK  Commercial Non-Cogen     Petroleum                 0.0   \n",
       "\n",
       "   SO2\\n(Metric Tons)  NOx\\n(Metric Tons)  \n",
       "0             13198.0              3011.0  \n",
       "1             13191.0              3009.0  \n",
       "2                 6.0                 2.0  \n",
       "3               149.0                42.0  \n",
       "4               149.0                42.0  "
      ]
     },
     "execution_count": 4,
     "metadata": {},
     "output_type": "execute_result"
    }
   ],
   "source": [
    "all_emission_df = read_data_from_URL(annual_emission_url)\n",
    "all_emission_df.head()"
   ]
  },
  {
   "cell_type": "code",
   "execution_count": 5,
   "metadata": {},
   "outputs": [
    {
     "name": "stdout",
     "output_type": "stream",
     "text": [
      "Records: 43258 \n",
      "Features: 7\n"
     ]
    }
   ],
   "source": [
    "print(\"Records:\", all_emission_df.shape[0], \"\\nFeatures:\", all_emission_df.shape[1])"
   ]
  },
  {
   "cell_type": "code",
   "execution_count": 6,
   "metadata": {},
   "outputs": [
    {
     "name": "stdout",
     "output_type": "stream",
     "text": [
      "<class 'pandas.core.frame.DataFrame'>\n",
      "RangeIndex: 43258 entries, 0 to 43257\n",
      "Data columns (total 7 columns):\n",
      " #   Column             Non-Null Count  Dtype  \n",
      "---  ------             --------------  -----  \n",
      " 0   Year               43258 non-null  int64  \n",
      " 1   State              43258 non-null  object \n",
      " 2   Producer Type      43258 non-null  object \n",
      " 3   Energy Source      43258 non-null  object \n",
      " 4   CO2\n",
      "(Metric Tons)  43258 non-null  float64\n",
      " 5   SO2\n",
      "(Metric Tons)  43258 non-null  float64\n",
      " 6   NOx\n",
      "(Metric Tons)  43258 non-null  float64\n",
      "dtypes: float64(3), int64(1), object(3)\n",
      "memory usage: 2.3+ MB\n"
     ]
    }
   ],
   "source": [
    "all_emission_df.info()"
   ]
  },
  {
   "cell_type": "code",
   "execution_count": 7,
   "metadata": {
    "scrolled": true
   },
   "outputs": [
    {
     "data": {
      "text/plain": [
       "Total Electric Power Industry    10006\n",
       "Industrial Cogen                  7512\n",
       "Electric Utility                  6776\n",
       "IPP NAICS-22 Non-Cogen            5725\n",
       "IPP NAICS-22 Cogen                4750\n",
       "Commercial Cogen                  4138\n",
       "Industrial Non-Cogen              2295\n",
       "Commercial Non-Cogen              2056\n",
       "Name: Producer Type, dtype: int64"
      ]
     },
     "execution_count": 7,
     "metadata": {},
     "output_type": "execute_result"
    }
   ],
   "source": [
    "all_emission_df['Producer Type'].value_counts()"
   ]
  },
  {
   "cell_type": "markdown",
   "metadata": {},
   "source": [
    "#### We will only look into \"Total Electric Power Industry\" so we remove all the other types of producers"
   ]
  },
  {
   "cell_type": "code",
   "execution_count": 8,
   "metadata": {},
   "outputs": [
    {
     "name": "stdout",
     "output_type": "stream",
     "text": [
      "Records: 10006 \n",
      "Features: 6\n"
     ]
    },
    {
     "name": "stderr",
     "output_type": "stream",
     "text": [
      "C:\\Users\\vaths\\anaconda3\\lib\\site-packages\\pandas\\core\\frame.py:4906: SettingWithCopyWarning: \n",
      "A value is trying to be set on a copy of a slice from a DataFrame\n",
      "\n",
      "See the caveats in the documentation: https://pandas.pydata.org/pandas-docs/stable/user_guide/indexing.html#returning-a-view-versus-a-copy\n",
      "  return super().drop(\n"
     ]
    }
   ],
   "source": [
    "emission_df = all_emission_df[all_emission_df['Producer Type'] == 'Total Electric Power Industry']\n",
    "emission_df.drop(['Producer Type'], axis = 1, inplace = True)\n",
    "print(\"Records:\", emission_df.shape[0], \"\\nFeatures:\", emission_df.shape[1])"
   ]
  },
  {
   "cell_type": "code",
   "execution_count": 9,
   "metadata": {},
   "outputs": [
    {
     "name": "stdout",
     "output_type": "stream",
     "text": [
      "<class 'pandas.core.frame.DataFrame'>\n",
      "Int64Index: 10006 entries, 17 to 43257\n",
      "Data columns (total 6 columns):\n",
      " #   Column             Non-Null Count  Dtype  \n",
      "---  ------             --------------  -----  \n",
      " 0   Year               10006 non-null  int64  \n",
      " 1   State              10006 non-null  object \n",
      " 2   Energy Source      10006 non-null  object \n",
      " 3   CO2\n",
      "(Metric Tons)  10006 non-null  float64\n",
      " 4   SO2\n",
      "(Metric Tons)  10006 non-null  float64\n",
      " 5   NOx\n",
      "(Metric Tons)  10006 non-null  float64\n",
      "dtypes: float64(3), int64(1), object(2)\n",
      "memory usage: 547.2+ KB\n"
     ]
    }
   ],
   "source": [
    "emission_df.info()"
   ]
  },
  {
   "cell_type": "code",
   "execution_count": 10,
   "metadata": {},
   "outputs": [
    {
     "data": {
      "text/plain": [
       "All Sources                    1560\n",
       "Petroleum                      1556\n",
       "Natural Gas                    1507\n",
       "Coal                           1468\n",
       "Other                          1164\n",
       "Other Biomass                  1069\n",
       "Wood and Wood Derived Fuels     851\n",
       "Other Gases                     656\n",
       "Geothermal                      175\n",
       "Name: Energy Source, dtype: int64"
      ]
     },
     "execution_count": 10,
     "metadata": {},
     "output_type": "execute_result"
    }
   ],
   "source": [
    "emission_df['Energy Source'].value_counts()"
   ]
  },
  {
   "cell_type": "markdown",
   "metadata": {},
   "source": [
    "### Get Median Household Income Data"
   ]
  },
  {
   "cell_type": "code",
   "execution_count": 11,
   "metadata": {
    "scrolled": false
   },
   "outputs": [
    {
     "data": {
      "text/html": [
       "<div>\n",
       "<style scoped>\n",
       "    .dataframe tbody tr th:only-of-type {\n",
       "        vertical-align: middle;\n",
       "    }\n",
       "\n",
       "    .dataframe tbody tr th {\n",
       "        vertical-align: top;\n",
       "    }\n",
       "\n",
       "    .dataframe thead th {\n",
       "        text-align: right;\n",
       "    }\n",
       "</style>\n",
       "<table border=\"1\" class=\"dataframe\">\n",
       "  <thead>\n",
       "    <tr style=\"text-align: right;\">\n",
       "      <th></th>\n",
       "      <th>State</th>\n",
       "      <th>2020</th>\n",
       "      <th>2019</th>\n",
       "      <th>2018</th>\n",
       "      <th>2017</th>\n",
       "      <th>2016</th>\n",
       "      <th>2015</th>\n",
       "      <th>2014</th>\n",
       "      <th>2013</th>\n",
       "      <th>2012</th>\n",
       "      <th>...</th>\n",
       "      <th>2009</th>\n",
       "      <th>2008</th>\n",
       "      <th>2007</th>\n",
       "      <th>2006</th>\n",
       "      <th>2005</th>\n",
       "      <th>2004</th>\n",
       "      <th>2003</th>\n",
       "      <th>2002</th>\n",
       "      <th>2001</th>\n",
       "      <th>2000</th>\n",
       "    </tr>\n",
       "  </thead>\n",
       "  <tbody>\n",
       "    <tr>\n",
       "      <th>0</th>\n",
       "      <td>United States</td>\n",
       "      <td>67521.0</td>\n",
       "      <td>68703.0</td>\n",
       "      <td>63179.0</td>\n",
       "      <td>61136.0</td>\n",
       "      <td>59039.0</td>\n",
       "      <td>56516.0</td>\n",
       "      <td>53657.0</td>\n",
       "      <td>53585.0</td>\n",
       "      <td>51017.0</td>\n",
       "      <td>...</td>\n",
       "      <td>49777.0</td>\n",
       "      <td>50303.0</td>\n",
       "      <td>50233.0</td>\n",
       "      <td>48201.0</td>\n",
       "      <td>46326.0</td>\n",
       "      <td>44334.0</td>\n",
       "      <td>43318.0</td>\n",
       "      <td>42409.0</td>\n",
       "      <td>42228.0</td>\n",
       "      <td>41990.0</td>\n",
       "    </tr>\n",
       "    <tr>\n",
       "      <th>1</th>\n",
       "      <td>Alabama</td>\n",
       "      <td>54393.0</td>\n",
       "      <td>56200.0</td>\n",
       "      <td>49936.0</td>\n",
       "      <td>50865.0</td>\n",
       "      <td>47221.0</td>\n",
       "      <td>44509.0</td>\n",
       "      <td>42278.0</td>\n",
       "      <td>47320.0</td>\n",
       "      <td>43464.0</td>\n",
       "      <td>...</td>\n",
       "      <td>39980.0</td>\n",
       "      <td>44476.0</td>\n",
       "      <td>42212.0</td>\n",
       "      <td>37952.0</td>\n",
       "      <td>37150.0</td>\n",
       "      <td>36629.0</td>\n",
       "      <td>37255.0</td>\n",
       "      <td>37603.0</td>\n",
       "      <td>35160.0</td>\n",
       "      <td>35424.0</td>\n",
       "    </tr>\n",
       "    <tr>\n",
       "      <th>2</th>\n",
       "      <td>Alaska</td>\n",
       "      <td>74476.0</td>\n",
       "      <td>78394.0</td>\n",
       "      <td>68734.0</td>\n",
       "      <td>77987.0</td>\n",
       "      <td>75723.0</td>\n",
       "      <td>75112.0</td>\n",
       "      <td>67629.0</td>\n",
       "      <td>72472.0</td>\n",
       "      <td>63648.0</td>\n",
       "      <td>...</td>\n",
       "      <td>61604.0</td>\n",
       "      <td>63989.0</td>\n",
       "      <td>62993.0</td>\n",
       "      <td>56418.0</td>\n",
       "      <td>55891.0</td>\n",
       "      <td>55063.0</td>\n",
       "      <td>51837.0</td>\n",
       "      <td>52774.0</td>\n",
       "      <td>57363.0</td>\n",
       "      <td>52847.0</td>\n",
       "    </tr>\n",
       "    <tr>\n",
       "      <th>3</th>\n",
       "      <td>Arizona</td>\n",
       "      <td>66628.0</td>\n",
       "      <td>70674.0</td>\n",
       "      <td>62283.0</td>\n",
       "      <td>59700.0</td>\n",
       "      <td>57100.0</td>\n",
       "      <td>52248.0</td>\n",
       "      <td>49254.0</td>\n",
       "      <td>52611.0</td>\n",
       "      <td>47044.0</td>\n",
       "      <td>...</td>\n",
       "      <td>45739.0</td>\n",
       "      <td>46914.0</td>\n",
       "      <td>47215.0</td>\n",
       "      <td>46657.0</td>\n",
       "      <td>45245.0</td>\n",
       "      <td>43846.0</td>\n",
       "      <td>41166.0</td>\n",
       "      <td>39734.0</td>\n",
       "      <td>42704.0</td>\n",
       "      <td>39783.0</td>\n",
       "    </tr>\n",
       "    <tr>\n",
       "      <th>4</th>\n",
       "      <td>Arkansas</td>\n",
       "      <td>50540.0</td>\n",
       "      <td>54539.0</td>\n",
       "      <td>49781.0</td>\n",
       "      <td>49751.0</td>\n",
       "      <td>45907.0</td>\n",
       "      <td>42798.0</td>\n",
       "      <td>44922.0</td>\n",
       "      <td>39376.0</td>\n",
       "      <td>39018.0</td>\n",
       "      <td>...</td>\n",
       "      <td>36538.0</td>\n",
       "      <td>39586.0</td>\n",
       "      <td>40795.0</td>\n",
       "      <td>37057.0</td>\n",
       "      <td>36658.0</td>\n",
       "      <td>34984.0</td>\n",
       "      <td>32002.0</td>\n",
       "      <td>32387.0</td>\n",
       "      <td>33339.0</td>\n",
       "      <td>29697.0</td>\n",
       "    </tr>\n",
       "  </tbody>\n",
       "</table>\n",
       "<p>5 rows × 22 columns</p>\n",
       "</div>"
      ],
      "text/plain": [
       "           State     2020     2019     2018     2017     2016     2015  \\\n",
       "0  United States  67521.0  68703.0  63179.0  61136.0  59039.0  56516.0   \n",
       "1        Alabama  54393.0  56200.0  49936.0  50865.0  47221.0  44509.0   \n",
       "2         Alaska  74476.0  78394.0  68734.0  77987.0  75723.0  75112.0   \n",
       "3        Arizona  66628.0  70674.0  62283.0  59700.0  57100.0  52248.0   \n",
       "4       Arkansas  50540.0  54539.0  49781.0  49751.0  45907.0  42798.0   \n",
       "\n",
       "      2014     2013     2012  ...     2009     2008     2007     2006  \\\n",
       "0  53657.0  53585.0  51017.0  ...  49777.0  50303.0  50233.0  48201.0   \n",
       "1  42278.0  47320.0  43464.0  ...  39980.0  44476.0  42212.0  37952.0   \n",
       "2  67629.0  72472.0  63648.0  ...  61604.0  63989.0  62993.0  56418.0   \n",
       "3  49254.0  52611.0  47044.0  ...  45739.0  46914.0  47215.0  46657.0   \n",
       "4  44922.0  39376.0  39018.0  ...  36538.0  39586.0  40795.0  37057.0   \n",
       "\n",
       "      2005     2004     2003     2002     2001     2000  \n",
       "0  46326.0  44334.0  43318.0  42409.0  42228.0  41990.0  \n",
       "1  37150.0  36629.0  37255.0  37603.0  35160.0  35424.0  \n",
       "2  55891.0  55063.0  51837.0  52774.0  57363.0  52847.0  \n",
       "3  45245.0  43846.0  41166.0  39734.0  42704.0  39783.0  \n",
       "4  36658.0  34984.0  32002.0  32387.0  33339.0  29697.0  \n",
       "\n",
       "[5 rows x 22 columns]"
      ]
     },
     "execution_count": 11,
     "metadata": {},
     "output_type": "execute_result"
    }
   ],
   "source": [
    "median_income_df = read_data_from_URL(median_household_income_url)\n",
    "median_income_df.head()"
   ]
  },
  {
   "cell_type": "code",
   "execution_count": 12,
   "metadata": {},
   "outputs": [
    {
     "name": "stdout",
     "output_type": "stream",
     "text": [
      "Records: 52 \n",
      "Features: 22\n"
     ]
    }
   ],
   "source": [
    "print(\"Records:\", median_income_df.shape[0], \"\\nFeatures:\", median_income_df.shape[1])"
   ]
  },
  {
   "cell_type": "code",
   "execution_count": 13,
   "metadata": {
    "scrolled": true
   },
   "outputs": [
    {
     "name": "stdout",
     "output_type": "stream",
     "text": [
      "<class 'pandas.core.frame.DataFrame'>\n",
      "RangeIndex: 52 entries, 0 to 51\n",
      "Data columns (total 22 columns):\n",
      " #   Column  Non-Null Count  Dtype  \n",
      "---  ------  --------------  -----  \n",
      " 0   State   52 non-null     object \n",
      " 1   2020    52 non-null     float64\n",
      " 2   2019    52 non-null     float64\n",
      " 3   2018    52 non-null     float64\n",
      " 4   2017    52 non-null     float64\n",
      " 5   2016    52 non-null     float64\n",
      " 6   2015    52 non-null     float64\n",
      " 7   2014    52 non-null     float64\n",
      " 8   2013    52 non-null     float64\n",
      " 9   2012    52 non-null     float64\n",
      " 10  2011    52 non-null     float64\n",
      " 11  2010    52 non-null     float64\n",
      " 12  2009    52 non-null     float64\n",
      " 13  2008    52 non-null     float64\n",
      " 14  2007    52 non-null     float64\n",
      " 15  2006    52 non-null     float64\n",
      " 16  2005    52 non-null     float64\n",
      " 17  2004    52 non-null     float64\n",
      " 18  2003    52 non-null     float64\n",
      " 19  2002    52 non-null     float64\n",
      " 20  2001    52 non-null     float64\n",
      " 21  2000    52 non-null     float64\n",
      "dtypes: float64(21), object(1)\n",
      "memory usage: 9.1+ KB\n"
     ]
    }
   ],
   "source": [
    "median_income_df.info()"
   ]
  },
  {
   "cell_type": "code",
   "execution_count": 14,
   "metadata": {},
   "outputs": [],
   "source": [
    "median_income_df = median_income_df.iloc[1: , :]"
   ]
  },
  {
   "cell_type": "code",
   "execution_count": 15,
   "metadata": {},
   "outputs": [],
   "source": [
    "median_income_df = median_income_df.melt(id_vars = 'State', var_name = 'Year', value_name = 'Median Income')\n",
    "median_income_df['Year']  = median_income_df['Year'].astype(np.int64)"
   ]
  },
  {
   "cell_type": "code",
   "execution_count": 16,
   "metadata": {},
   "outputs": [
    {
     "data": {
      "text/html": [
       "<div>\n",
       "<style scoped>\n",
       "    .dataframe tbody tr th:only-of-type {\n",
       "        vertical-align: middle;\n",
       "    }\n",
       "\n",
       "    .dataframe tbody tr th {\n",
       "        vertical-align: top;\n",
       "    }\n",
       "\n",
       "    .dataframe thead th {\n",
       "        text-align: right;\n",
       "    }\n",
       "</style>\n",
       "<table border=\"1\" class=\"dataframe\">\n",
       "  <thead>\n",
       "    <tr style=\"text-align: right;\">\n",
       "      <th></th>\n",
       "      <th>State</th>\n",
       "      <th>Year</th>\n",
       "      <th>Median Income</th>\n",
       "    </tr>\n",
       "  </thead>\n",
       "  <tbody>\n",
       "    <tr>\n",
       "      <th>0</th>\n",
       "      <td>Alabama</td>\n",
       "      <td>2020</td>\n",
       "      <td>54393.0</td>\n",
       "    </tr>\n",
       "    <tr>\n",
       "      <th>1</th>\n",
       "      <td>Alaska</td>\n",
       "      <td>2020</td>\n",
       "      <td>74476.0</td>\n",
       "    </tr>\n",
       "    <tr>\n",
       "      <th>2</th>\n",
       "      <td>Arizona</td>\n",
       "      <td>2020</td>\n",
       "      <td>66628.0</td>\n",
       "    </tr>\n",
       "    <tr>\n",
       "      <th>3</th>\n",
       "      <td>Arkansas</td>\n",
       "      <td>2020</td>\n",
       "      <td>50540.0</td>\n",
       "    </tr>\n",
       "    <tr>\n",
       "      <th>4</th>\n",
       "      <td>California</td>\n",
       "      <td>2020</td>\n",
       "      <td>77358.0</td>\n",
       "    </tr>\n",
       "  </tbody>\n",
       "</table>\n",
       "</div>"
      ],
      "text/plain": [
       "        State  Year  Median Income\n",
       "0     Alabama  2020        54393.0\n",
       "1      Alaska  2020        74476.0\n",
       "2     Arizona  2020        66628.0\n",
       "3    Arkansas  2020        50540.0\n",
       "4  California  2020        77358.0"
      ]
     },
     "execution_count": 16,
     "metadata": {},
     "output_type": "execute_result"
    }
   ],
   "source": [
    "median_income_df.head()"
   ]
  },
  {
   "cell_type": "code",
   "execution_count": 17,
   "metadata": {},
   "outputs": [
    {
     "name": "stdout",
     "output_type": "stream",
     "text": [
      "<class 'pandas.core.frame.DataFrame'>\n",
      "RangeIndex: 1071 entries, 0 to 1070\n",
      "Data columns (total 3 columns):\n",
      " #   Column         Non-Null Count  Dtype  \n",
      "---  ------         --------------  -----  \n",
      " 0   State          1071 non-null   object \n",
      " 1   Year           1071 non-null   int64  \n",
      " 2   Median Income  1071 non-null   float64\n",
      "dtypes: float64(1), int64(1), object(1)\n",
      "memory usage: 25.2+ KB\n"
     ]
    }
   ],
   "source": [
    "median_income_df.info()"
   ]
  }
 ],
 "metadata": {
  "kernelspec": {
   "display_name": "Python 3 (ipykernel)",
   "language": "python",
   "name": "python3"
  },
  "language_info": {
   "codemirror_mode": {
    "name": "ipython",
    "version": 3
   },
   "file_extension": ".py",
   "mimetype": "text/x-python",
   "name": "python",
   "nbconvert_exporter": "python",
   "pygments_lexer": "ipython3",
   "version": "3.8.8"
  }
 },
 "nbformat": 4,
 "nbformat_minor": 4
}
